{
 "cells": [
  {
   "cell_type": "markdown",
   "metadata": {},
   "source": [
    "## ANLY 590 HW 3\n",
    "\n",
    "### Xunge Jiang \n",
    "#### netid xj64\n",
    "\n",
    "### 12/06"
   ]
  },
  {
   "cell_type": "markdown",
   "metadata": {},
   "source": [
    "## Problem 1: Autoencoder"
   ]
  },
  {
   "cell_type": "code",
   "execution_count": 6,
   "metadata": {},
   "outputs": [],
   "source": [
    "import tensorflow as tf\n",
    "import keras\n",
    "# Importing core neural networks layers \n",
    "from keras.layers import Input, Dense, Dropout, Activation, Flatten\n",
    "# Importing CNN layers\n",
    "from keras.layers import Conv2D, MaxPooling2D\n",
    "# Tools for data transformation\n",
    "from keras.utils import np_utils\n",
    "from matplotlib import pyplot as plt\n",
    "from keras.models import Model, Sequential\n",
    "from keras.datasets import mnist\n",
    "import numpy as np\n",
    "import matplotlib.pyplot as plt\n",
    "%matplotlib inline"
   ]
  },
  {
   "cell_type": "code",
   "execution_count": 7,
   "metadata": {},
   "outputs": [],
   "source": [
    "#import the data\n",
    "from keras.datasets import fashion_mnist"
   ]
  },
  {
   "cell_type": "code",
   "execution_count": 9,
   "metadata": {},
   "outputs": [],
   "source": [
    "(x_train, y_train), (x_test, y_test) = fashion_mnist.load_data()\n",
    "# =========================\n",
    "#  Reshaping train and test\n",
    "# =========================\n",
    "x_train = x_train.astype('float32') / 255.\n",
    "x_test = x_test.astype('float32') / 255.\n",
    "x_train = np.reshape(x_train, (len(x_train), 28, 28, 1))  \n",
    "x_test = np.reshape(x_test, (len(x_test), 28, 28, 1)) "
   ]
  },
  {
   "cell_type": "code",
   "execution_count": 15,
   "metadata": {},
   "outputs": [],
   "source": [
    "from keras.layers import Input, Dense, Conv2D, MaxPooling2D, UpSampling2D\n",
    "from keras.models import Model\n",
    "from keras import backend as K\n",
    "\n",
    "input_img = Input(shape=(28, 28, 1))\n",
    "\n",
    "# Encoding Step: Conv2D, MaxPooling \n",
    "x = Conv2D(16, (5, 5), activation='relu', padding='same')(input_img)\n",
    "x = MaxPooling2D((2, 2), padding='same')(x)\n",
    "x = Conv2D(8, (5, 5), activation='relu', padding='same')(x)\n",
    "x = MaxPooling2D((2, 2), padding='same')(x)\n",
    "x = Conv2D(8, (5, 5), activation='relu', padding='same')(x)\n",
    "encoded = MaxPooling2D((2, 2), padding='same')(x)\n",
    "\n",
    "# Decoding + Upsampling2D\n",
    "x = Conv2D(8, (3, 3), activation='relu', padding='same')(encoded)\n",
    "x = UpSampling2D((2, 2))(x)\n",
    "x = Conv2D(8, (3, 3), activation='relu', padding='same')(x)\n",
    "x = UpSampling2D((2, 2))(x)\n",
    "x = Conv2D(16, (3, 3), activation='relu')(x)\n",
    "x = UpSampling2D((2, 2))(x)\n",
    "decoded = Conv2D(1, (3, 3), activation='sigmoid', padding='same')(x)\n",
    "\n",
    "autoencoder = Model(input_img, decoded)\n",
    "autoencoder.compile(optimizer='adam', loss='binary_crossentropy')"
   ]
  },
  {
   "cell_type": "code",
   "execution_count": 16,
   "metadata": {},
   "outputs": [
    {
     "name": "stdout",
     "output_type": "stream",
     "text": [
      "Train on 60000 samples, validate on 10000 samples\n",
      "Epoch 1/10\n",
      "60000/60000 [==============================] - 76s 1ms/step - loss: 0.3289 - val_loss: 0.3034\n",
      "Epoch 2/10\n",
      "60000/60000 [==============================] - 74s 1ms/step - loss: 0.2969 - val_loss: 0.2959\n",
      "Epoch 3/10\n",
      "60000/60000 [==============================] - 75s 1ms/step - loss: 0.2914 - val_loss: 0.2916\n",
      "Epoch 4/10\n",
      "60000/60000 [==============================] - 75s 1ms/step - loss: 0.2885 - val_loss: 0.2909\n",
      "Epoch 5/10\n",
      "60000/60000 [==============================] - 75s 1ms/step - loss: 0.2866 - val_loss: 0.2878\n",
      "Epoch 6/10\n",
      "60000/60000 [==============================] - 77s 1ms/step - loss: 0.2852 - val_loss: 0.2867\n",
      "Epoch 7/10\n",
      "60000/60000 [==============================] - 76s 1ms/step - loss: 0.2842 - val_loss: 0.2856\n",
      "Epoch 8/10\n",
      "60000/60000 [==============================] - 75s 1ms/step - loss: 0.2834 - val_loss: 0.2851\n",
      "Epoch 9/10\n",
      "60000/60000 [==============================] - 74s 1ms/step - loss: 0.2827 - val_loss: 0.2850\n",
      "Epoch 10/10\n",
      "60000/60000 [==============================] - 74s 1ms/step - loss: 0.2821 - val_loss: 0.2849\n"
     ]
    },
    {
     "data": {
      "text/plain": [
       "<keras.callbacks.History at 0x1c51d4e7b8>"
      ]
     },
     "execution_count": 16,
     "metadata": {},
     "output_type": "execute_result"
    }
   ],
   "source": [
    "from keras.callbacks import TensorBoard\n",
    "autoencoder.fit(x_train, x_train,\n",
    "                epochs = 10,\n",
    "                batch_size = 64,\n",
    "                shuffle=True,\n",
    "                validation_data=(x_test, x_test),\n",
    "                callbacks=[TensorBoard(log_dir='/tmp/autoencoder')])"
   ]
  },
  {
   "cell_type": "code",
   "execution_count": 17,
   "metadata": {},
   "outputs": [
    {
     "data": {
      "image/png": "[encoded data removed]",
      "text/plain": [
       "<Figure size 1440x288 with 18 Axes>"
      ]
     },
     "metadata": {},
     "output_type": "display_data"
    }
   ],
   "source": [
    "# Reconstructed images\n",
    "decoded_imgs = autoencoder.predict(x_test)\n",
    "\n",
    "n = 10\n",
    "plt.figure(figsize=(20, 4))\n",
    "for i in range(1,n):\n",
    "    # original\n",
    "    ax = plt.subplot(2, n, i)\n",
    "    plt.imshow(x_test[i].reshape(28, 28))\n",
    "    plt.gray()\n",
    "    ax.get_xaxis().set_visible(False)\n",
    "    ax.get_yaxis().set_visible(False)\n",
    "\n",
    "    # autoencoder reconstruction\n",
    "    ax = plt.subplot(2, n, i + n)\n",
    "    plt.imshow(decoded_imgs[i].reshape(28, 28))\n",
    "    plt.gray()\n",
    "    ax.get_xaxis().set_visible(False)\n",
    "    ax.get_yaxis().set_visible(False)\n",
    "plt.show()"
   ]
  },
  {
   "cell_type": "markdown",
   "metadata": {},
   "source": [
    "## Problem 2"
   ]
  },
  {
   "cell_type": "markdown",
   "metadata": {},
   "source": [
    "#### 2.1 Deep CNN"
   ]
  },
  {
   "cell_type": "markdown",
   "metadata": {},
   "source": [
    "The architecture of CNN is as follows: \n",
    "1. Start with two 2D convolution layers of 32 kernels with size 3 by 3, stride = (1,1), padding = 'valid'.\n",
    "2. Downsampling by adding one MaxPooling Layer of size 2 by 2. \n",
    "3. Add dropout which is 0.25\n",
    "4. Add another convolution layer of 32 kernels with size 3 by 3, stride = (1,1), padding = 'valid'. \n",
    "5. Flatten the output.\n",
    "6. Add two Dense layers. \n",
    "7. Use softmax activation, adam optimizer and cross entropy as metric since y has 10 classes so it is a multi-class classification problem. \n",
    "\n",
    "I choose three convolution layers total since I think it is enough for training. Also, other architectural choices are the basic setting for layers. "
   ]
  },
  {
   "cell_type": "code",
   "execution_count": 18,
   "metadata": {},
   "outputs": [],
   "source": [
    "# Split to train and test\n",
    "(X_train, y_train), (X_test, y_test) = fashion_mnist.load_data()\n",
    "X_train = X_train.reshape(X_train.shape[0], 28, 28,1)\n",
    "X_test = X_test.reshape(X_test.shape[0], 28, 28,1)\n",
    "\n",
    "X_train = X_train.astype('float32')\n",
    "X_test = X_test.astype('float32')\n",
    "X_train /= 255\n",
    "X_test /= 255\n",
    "\n",
    "\n",
    "Y_train = np_utils.to_categorical(y_train, 10)\n",
    "Y_test = np_utils.to_categorical(y_test, 10)"
   ]
  },
  {
   "cell_type": "code",
   "execution_count": 19,
   "metadata": {},
   "outputs": [
    {
     "name": "stdout",
     "output_type": "stream",
     "text": [
      "WARNING:tensorflow:From /Users/xungejiang/anaconda3/lib/python3.6/site-packages/keras/backend/tensorflow_backend.py:1255: calling reduce_prod (from tensorflow.python.ops.math_ops) with keep_dims is deprecated and will be removed in a future version.\n",
      "Instructions for updating:\n",
      "keep_dims is deprecated, use keepdims instead\n",
      "WARNING:tensorflow:From /Users/xungejiang/anaconda3/lib/python3.6/site-packages/keras/backend/tensorflow_backend.py:2857: calling reduce_sum (from tensorflow.python.ops.math_ops) with keep_dims is deprecated and will be removed in a future version.\n",
      "Instructions for updating:\n",
      "keep_dims is deprecated, use keepdims instead\n"
     ]
    }
   ],
   "source": [
    "model = Sequential()\n",
    "# add 2 convolutional layers\n",
    "model.add(Conv2D(filters = 32,kernel_size=(3, 3), activation='relu', strides=(1, 1), \n",
    "                 padding='valid', input_shape=(28,28,1)))\n",
    "model.add(Conv2D(filters = 32,kernel_size=(3, 3), activation='relu', strides=(1, 1), \n",
    "                 padding='valid', input_shape=(28,28,1)))\n",
    "# downsampling by maxpooling layer\n",
    "model.add(MaxPooling2D(pool_size=(2,2)))\n",
    "# dropout = 0.25\n",
    "model.add(Dropout(0.25))\n",
    "# add another convolutional layer\n",
    "model.add(Conv2D(filters = 32, kernel_size=(3, 3), activation='relu', strides=(1, 1), padding='valid'))\n",
    "\n",
    "# flatten and 2 dense layers + softmax activation on ten categories\n",
    "model.add(Flatten())\n",
    "model.add(Dense(256, activation='relu'))\n",
    "model.add(Dense(10, activation='softmax'))\n",
    "\n",
    "# compile the model with adamoptimizer \n",
    "model.compile(loss='categorical_crossentropy', optimizer='adam', metrics = ['accuracy'])"
   ]
  },
  {
   "cell_type": "code",
   "execution_count": 26,
   "metadata": {},
   "outputs": [],
   "source": [
    "# fit the model\n",
    "trained_model = model.fit(X_train, Y_train, epochs=15, batch_size=64, verbose = 0)"
   ]
  },
  {
   "cell_type": "code",
   "execution_count": 34,
   "metadata": {},
   "outputs": [
    {
     "name": "stdout",
     "output_type": "stream",
     "text": [
      "_________________________________________________________________\n",
      "Layer (type)                 Output Shape              Param #   \n",
      "=================================================================\n",
      "conv2d_15 (Conv2D)           (None, 26, 26, 32)        320       \n",
      "_________________________________________________________________\n",
      "conv2d_16 (Conv2D)           (None, 24, 24, 32)        9248      \n",
      "_________________________________________________________________\n",
      "max_pooling2d_7 (MaxPooling2 (None, 12, 12, 32)        0         \n",
      "_________________________________________________________________\n",
      "dropout_1 (Dropout)          (None, 12, 12, 32)        0         \n",
      "_________________________________________________________________\n",
      "conv2d_17 (Conv2D)           (None, 10, 10, 32)        9248      \n",
      "_________________________________________________________________\n",
      "flatten_1 (Flatten)          (None, 3200)              0         \n",
      "_________________________________________________________________\n",
      "dense_1 (Dense)              (None, 256)               819456    \n",
      "_________________________________________________________________\n",
      "dense_2 (Dense)              (None, 10)                2570      \n",
      "=================================================================\n",
      "Total params: 840,842\n",
      "Trainable params: 840,842\n",
      "Non-trainable params: 0\n",
      "_________________________________________________________________\n"
     ]
    }
   ],
   "source": [
    "model.summary()\n",
    "test_result = model.evaluate(X_test, Y_test, batch_size=64, verbose = 0)"
   ]
  },
  {
   "cell_type": "code",
   "execution_count": 35,
   "metadata": {},
   "outputs": [
    {
     "name": "stdout",
     "output_type": "stream",
     "text": [
      "Accuracy on Training Set is:  0.9927333333333334\n",
      "Accuracy on Test Set is:  0.922\n"
     ]
    }
   ],
   "source": [
    "print('Accuracy on Training Set is: ', trained_model.history['acc'][-1])\n",
    "print('Accuracy on Test Set is: ', test_result[1])"
   ]
  },
  {
   "cell_type": "markdown",
   "metadata": {},
   "source": [
    "#### 2.2 Transfer Learning"
   ]
  },
  {
   "cell_type": "code",
   "execution_count": 10,
   "metadata": {},
   "outputs": [],
   "source": [
    "from keras.applications import VGG16\n",
    "import matplotlib.pyplot as plt\n",
    "from keras.preprocessing.image import ImageDataGenerator, array_to_img, img_to_array, load_img\n",
    "from keras.models import Sequential\n",
    "from keras.layers import Dense, Flatten\n",
    "from keras.optimizers import RMSprop\n",
    "\n",
    "#import the data\n",
    "from keras.datasets import fashion_mnist\n",
    "from keras.utils import np_utils\n",
    "import numpy as np\n",
    "from keras.layers import Input, Dense, Dropout"
   ]
  },
  {
   "cell_type": "code",
   "execution_count": 2,
   "metadata": {},
   "outputs": [],
   "source": [
    "# Split to train and test\n",
    "(X_train, y_train), (X_test, y_test) = fashion_mnist.load_data()\n",
    "X_train = X_train.reshape(X_train.shape[0], 28, 28,1)\n",
    "X_test = X_test.reshape(X_test.shape[0], 28, 28,1)\n",
    "\n",
    "X_train = X_train.astype('float32')\n",
    "X_test = X_test.astype('float32')\n",
    "X_train /= 255\n",
    "X_test /= 255\n",
    "\n",
    "Y_train = np_utils.to_categorical(y_train, 10)\n",
    "Y_test = np_utils.to_categorical(y_test, 10)"
   ]
  },
  {
   "cell_type": "code",
   "execution_count": 5,
   "metadata": {},
   "outputs": [],
   "source": [
    "# Resize the images to match requirement of VGG16\n",
    "from keras.preprocessing.image import img_to_array, array_to_img\n",
    "# stack \n",
    "X_train = np.asarray([np.squeeze(np.stack((i, )*3, axis = -1)) for i in X_train])\n",
    "X_test = np.asarray([np.squeeze(np.stack((i, )*3, axis = -1)) for i in X_test])\n",
    "X_train = np.asarray([img_to_array(array_to_img(im, scale  = False).resize((48, 48))) for im in X_train])/255\n",
    "X_test = np.asarray([img_to_array(array_to_img(im, scale  = False).resize((48, 48))) for im in X_test])/255"
   ]
  },
  {
   "cell_type": "code",
   "execution_count": 6,
   "metadata": {},
   "outputs": [
    {
     "name": "stdout",
     "output_type": "stream",
     "text": [
      "(60000, 48, 48, 3)\n",
      "(10000, 48, 48, 3)\n"
     ]
    }
   ],
   "source": [
    "print(X_train.shape)\n",
    "print(X_test.shape)"
   ]
  },
  {
   "cell_type": "code",
   "execution_count": 11,
   "metadata": {},
   "outputs": [],
   "source": [
    "# load the base model\n",
    "conv_base = VGG16(weights=\"imagenet\", include_top=False, input_shape=(48,48,3))\n",
    "\n",
    "# fit the model\n",
    "model = Sequential()\n",
    "model.add(conv_base)\n",
    "model.add(Flatten())\n",
    "model.add(Dense(256, activation=\"relu\"))\n",
    "model.add(Dropout(0.25))\n",
    "model.add(Dense(10, activation=\"softmax\"))\n",
    "\n",
    "# freeze the base model weights\n",
    "conv_base.trainable = False\n",
    "# compile\n",
    "model.compile(loss=\"categorical_crossentropy\", optimizer='adam', metrics=[\"acc\"])"
   ]
  },
  {
   "cell_type": "code",
   "execution_count": 12,
   "metadata": {},
   "outputs": [
    {
     "name": "stdout",
     "output_type": "stream",
     "text": [
      "Epoch 1/5\n",
      "60000/60000 [==============================] - 2252s 38ms/step - loss: 14.4878 - acc: 0.0994\n",
      "Epoch 2/5\n",
      "60000/60000 [==============================] - 2235s 37ms/step - loss: 14.5186 - acc: 0.0992\n",
      "Epoch 3/5\n",
      "60000/60000 [==============================] - 2231s 37ms/step - loss: 14.5160 - acc: 0.0994\n",
      "Epoch 4/5\n",
      "60000/60000 [==============================] - 2237s 37ms/step - loss: 14.5117 - acc: 0.0997\n",
      "Epoch 5/5\n",
      "60000/60000 [==============================] - 2233s 37ms/step - loss: 14.4998 - acc: 0.1004\n"
     ]
    }
   ],
   "source": [
    "# fit\n",
    "history = model.fit(X_train, Y_train, epochs=5, batch_size=128, verbose = 1)"
   ]
  },
  {
   "cell_type": "code",
   "execution_count": 13,
   "metadata": {},
   "outputs": [],
   "source": [
    "# evaluate the model\n",
    "score = model.evaluate(X_test, Y_test, batch_size=64, verbose = 0)"
   ]
  },
  {
   "cell_type": "code",
   "execution_count": 17,
   "metadata": {},
   "outputs": [
    {
     "name": "stdout",
     "output_type": "stream",
     "text": [
      "Train loss:  14.499841710917154\n",
      "Train accuracy:  0.10040000000397364\n",
      "Test loss:  14.506285699462891\n",
      "Test accuracy:  0.1\n"
     ]
    }
   ],
   "source": [
    "print('Train loss: ', history.history['loss'][4]) \n",
    "print('Train accuracy: ', history.history['acc'][4])\n",
    "\n",
    "print('Test loss: ', score[0])\n",
    "print('Test accuracy: ', score[1])"
   ]
  },
  {
   "cell_type": "markdown",
   "metadata": {},
   "source": [
    "I used the pretrained VGG16 network model with two dense layers, one dropout, and softmax activation for 10 categories and reshaped the input of fashion mnist dataset into size 48 * 48 as a minimum size required by VGG16 model. \n",
    "\n",
    "The training of 5 epochs took a long time, nearly 3 hours. The training accuracy after 5 epochs reaches 0.1, so as the test accuracy. Both training and test loss/accuracy are similarly poor. The pretrained model performed worse than the deep CNN.\n",
    "\n",
    "I assume that if there were more time allowed, more epochs can be used to improve the accuracy. "
   ]
  },
  {
   "cell_type": "markdown",
   "metadata": {},
   "source": [
    "## Problem 3"
   ]
  },
  {
   "cell_type": "markdown",
   "metadata": {},
   "source": [
    "#### 3.1 RNN - Use LSTM Model"
   ]
  },
  {
   "cell_type": "code",
   "execution_count": 109,
   "metadata": {},
   "outputs": [
    {
     "name": "stdout",
     "output_type": "stream",
     "text": [
      "[nltk_data] Downloading package stopwords to\n",
      "[nltk_data]     /Users/xungejiang/nltk_data...\n",
      "[nltk_data]   Package stopwords is already up-to-date!\n",
      "[nltk_data] Downloading package wordnet to\n",
      "[nltk_data]     /Users/xungejiang/nltk_data...\n",
      "[nltk_data]   Package wordnet is already up-to-date!\n",
      "[nltk_data] Downloading package punkt to\n",
      "[nltk_data]     /Users/xungejiang/nltk_data...\n",
      "[nltk_data]   Package punkt is already up-to-date!\n"
     ]
    },
    {
     "data": {
      "text/plain": [
       "True"
      ]
     },
     "execution_count": 109,
     "metadata": {},
     "output_type": "execute_result"
    }
   ],
   "source": [
    "import pandas as pd\n",
    "import nltk\n",
    "import collections\n",
    "from nltk.util import ngrams\n",
    "from nltk.tokenize import word_tokenize\n",
    "from nltk.stem.porter import PorterStemmer\n",
    "from nltk.stem import WordNetLemmatizer\n",
    "from sklearn.model_selection import train_test_split\n",
    "from keras.applications.vgg16 import preprocess_input\n",
    "from keras.layers.embeddings import Embedding\n",
    "from keras.layers import Input, Dense, Dropout, Activation, Flatten, GlobalMaxPooling1D, LSTM\n",
    "from keras.callbacks import TensorBoard\n",
    "from keras.preprocessing import sequence\n",
    "from keras.preprocessing.text import Tokenizer\n",
    "from sklearn.utils import class_weight\n",
    "from keras.layers import LSTM, Conv1D, GlobalMaxPooling1D\n",
    "import regex\n",
    "from nltk.corpus import stopwords\n",
    "import gensim\n",
    "from gensim.models import Word2Vec\n",
    "from tensorflow.keras.preprocessing import sequence\n",
    "\n",
    "nltk.download('stopwords')\n",
    "nltk.download('wordnet')\n",
    "nltk.download('punkt')"
   ]
  },
  {
   "cell_type": "markdown",
   "metadata": {},
   "source": [
    "#### Preprocess Tweets"
   ]
  },
  {
   "cell_type": "code",
   "execution_count": 110,
   "metadata": {},
   "outputs": [],
   "source": [
    "tweets = pd.read_csv('tweets_with_labels.csv', sep = '\\t')\n",
    "\n",
    "# clean tweets\n",
    "stopWords = set(stopwords.words('english'))\n",
    "stemmer = PorterStemmer()\n",
    "lemmatizer = WordNetLemmatizer()\n",
    "\n",
    "def preprocess_tweets(tweet):\n",
    "    tweet = re.sub(\"@mention\", \"\",tweet)\n",
    "    tweet = re.sub(\"{link}\", \"\",tweet)\n",
    "    tweet = re.sub(\"[^A-Za-z]\",\" \",tweet)\n",
    "    tweet = re.sub(r'\\bRT\\b', '', tweet)\n",
    "    tweet = re.sub(\"\\s+\",\" \",tweet)\n",
    "    tokens = word_tokenize(tweet)\n",
    "    words = [word for word in tokens if word not in stopWords]\n",
    "    words = [stemmer.stem(w).strip(\"'\") for w in words]\n",
    "    words = [lemmatizer.lemmatize(w, pos=\"a\") for w in words]\n",
    "    words = [word for word in words if len(word) != 1]\n",
    "    final_tweet = ' '.join(words)\n",
    "    return final_tweet\n",
    "\n",
    "tweet_clean = [preprocess_tweets(x) for x in list(tweets.tweet)]\n",
    "tweets['tweets_cleaned'] = tweet_clean"
   ]
  },
  {
   "cell_type": "code",
   "execution_count": 111,
   "metadata": {},
   "outputs": [
    {
     "data": {
      "text/html": [
       "<div>\n",
       "<style scoped>\n",
       "    .dataframe tbody tr th:only-of-type {\n",
       "        vertical-align: middle;\n",
       "    }\n",
       "\n",
       "    .dataframe tbody tr th {\n",
       "        vertical-align: top;\n",
       "    }\n",
       "\n",
       "    .dataframe thead th {\n",
       "        text-align: right;\n",
       "    }\n",
       "</style>\n",
       "<table border=\"1\" class=\"dataframe\">\n",
       "  <thead>\n",
       "    <tr style=\"text-align: right;\">\n",
       "      <th></th>\n",
       "      <th>id</th>\n",
       "      <th>tweet</th>\n",
       "      <th>k1</th>\n",
       "      <th>k2</th>\n",
       "      <th>k3</th>\n",
       "      <th>k4</th>\n",
       "      <th>k5</th>\n",
       "      <th>k6</th>\n",
       "      <th>k7</th>\n",
       "      <th>k8</th>\n",
       "      <th>k9</th>\n",
       "      <th>k10</th>\n",
       "      <th>k11</th>\n",
       "      <th>k12</th>\n",
       "      <th>k13</th>\n",
       "      <th>k14</th>\n",
       "      <th>k15</th>\n",
       "      <th>tweets_cleaned</th>\n",
       "    </tr>\n",
       "  </thead>\n",
       "  <tbody>\n",
       "    <tr>\n",
       "      <th>0</th>\n",
       "      <td>1</td>\n",
       "      <td>Jazz for a Rainy Afternoon:  {link}</td>\n",
       "      <td>0.0</td>\n",
       "      <td>0.0</td>\n",
       "      <td>0.0</td>\n",
       "      <td>0.0</td>\n",
       "      <td>0.0</td>\n",
       "      <td>0.0</td>\n",
       "      <td>0.000</td>\n",
       "      <td>0.0</td>\n",
       "      <td>0.000</td>\n",
       "      <td>1.0</td>\n",
       "      <td>0.0</td>\n",
       "      <td>0.0</td>\n",
       "      <td>0.000</td>\n",
       "      <td>0.0</td>\n",
       "      <td>0.0</td>\n",
       "      <td>jazz raini afternoon</td>\n",
       "    </tr>\n",
       "    <tr>\n",
       "      <th>1</th>\n",
       "      <td>2</td>\n",
       "      <td>RT: @mention: I love rainy days.</td>\n",
       "      <td>0.0</td>\n",
       "      <td>0.0</td>\n",
       "      <td>0.0</td>\n",
       "      <td>0.0</td>\n",
       "      <td>0.0</td>\n",
       "      <td>0.0</td>\n",
       "      <td>0.000</td>\n",
       "      <td>0.0</td>\n",
       "      <td>0.000</td>\n",
       "      <td>1.0</td>\n",
       "      <td>0.0</td>\n",
       "      <td>0.0</td>\n",
       "      <td>0.000</td>\n",
       "      <td>0.0</td>\n",
       "      <td>0.0</td>\n",
       "      <td>love raini day</td>\n",
       "    </tr>\n",
       "    <tr>\n",
       "      <th>2</th>\n",
       "      <td>3</td>\n",
       "      <td>Good Morning Chicago! Time to kick the Windy C...</td>\n",
       "      <td>0.0</td>\n",
       "      <td>0.0</td>\n",
       "      <td>0.0</td>\n",
       "      <td>0.0</td>\n",
       "      <td>0.0</td>\n",
       "      <td>0.0</td>\n",
       "      <td>1.000</td>\n",
       "      <td>0.0</td>\n",
       "      <td>0.000</td>\n",
       "      <td>0.0</td>\n",
       "      <td>0.0</td>\n",
       "      <td>0.0</td>\n",
       "      <td>0.000</td>\n",
       "      <td>0.0</td>\n",
       "      <td>0.0</td>\n",
       "      <td>good morn chicago time kick windi citi nut hea...</td>\n",
       "    </tr>\n",
       "    <tr>\n",
       "      <th>3</th>\n",
       "      <td>6</td>\n",
       "      <td>Preach lol! :) RT @mention: #alliwantis this t...</td>\n",
       "      <td>0.0</td>\n",
       "      <td>0.0</td>\n",
       "      <td>0.0</td>\n",
       "      <td>0.0</td>\n",
       "      <td>0.0</td>\n",
       "      <td>0.0</td>\n",
       "      <td>0.604</td>\n",
       "      <td>0.0</td>\n",
       "      <td>0.196</td>\n",
       "      <td>0.0</td>\n",
       "      <td>0.0</td>\n",
       "      <td>0.0</td>\n",
       "      <td>0.201</td>\n",
       "      <td>0.0</td>\n",
       "      <td>0.0</td>\n",
       "      <td>preach lol alliwanti type weather time live be...</td>\n",
       "    </tr>\n",
       "    <tr>\n",
       "      <th>4</th>\n",
       "      <td>9</td>\n",
       "      <td>@mention good morning sunshine</td>\n",
       "      <td>0.0</td>\n",
       "      <td>0.0</td>\n",
       "      <td>0.0</td>\n",
       "      <td>0.0</td>\n",
       "      <td>0.0</td>\n",
       "      <td>0.0</td>\n",
       "      <td>0.000</td>\n",
       "      <td>0.0</td>\n",
       "      <td>0.000</td>\n",
       "      <td>0.0</td>\n",
       "      <td>0.0</td>\n",
       "      <td>0.0</td>\n",
       "      <td>1.000</td>\n",
       "      <td>0.0</td>\n",
       "      <td>0.0</td>\n",
       "      <td>good morn sunshin</td>\n",
       "    </tr>\n",
       "  </tbody>\n",
       "</table>\n",
       "</div>"
      ],
      "text/plain": [
       "   id                                              tweet   k1   k2   k3   k4  \\\n",
       "0   1                Jazz for a Rainy Afternoon:  {link}  0.0  0.0  0.0  0.0   \n",
       "1   2                   RT: @mention: I love rainy days.  0.0  0.0  0.0  0.0   \n",
       "2   3  Good Morning Chicago! Time to kick the Windy C...  0.0  0.0  0.0  0.0   \n",
       "3   6  Preach lol! :) RT @mention: #alliwantis this t...  0.0  0.0  0.0  0.0   \n",
       "4   9                     @mention good morning sunshine  0.0  0.0  0.0  0.0   \n",
       "\n",
       "    k5   k6     k7   k8     k9  k10  k11  k12    k13  k14  k15  \\\n",
       "0  0.0  0.0  0.000  0.0  0.000  1.0  0.0  0.0  0.000  0.0  0.0   \n",
       "1  0.0  0.0  0.000  0.0  0.000  1.0  0.0  0.0  0.000  0.0  0.0   \n",
       "2  0.0  0.0  1.000  0.0  0.000  0.0  0.0  0.0  0.000  0.0  0.0   \n",
       "3  0.0  0.0  0.604  0.0  0.196  0.0  0.0  0.0  0.201  0.0  0.0   \n",
       "4  0.0  0.0  0.000  0.0  0.000  0.0  0.0  0.0  1.000  0.0  0.0   \n",
       "\n",
       "                                      tweets_cleaned  \n",
       "0                               jazz raini afternoon  \n",
       "1                                     love raini day  \n",
       "2  good morn chicago time kick windi citi nut hea...  \n",
       "3  preach lol alliwanti type weather time live be...  \n",
       "4                                  good morn sunshin  "
      ]
     },
     "execution_count": 111,
     "metadata": {},
     "output_type": "execute_result"
    }
   ],
   "source": [
    "tweets.head()"
   ]
  },
  {
   "cell_type": "code",
   "execution_count": 86,
   "metadata": {},
   "outputs": [],
   "source": [
    "token = [word_tokenize(x) for x in list(tweets.tweets_cleaned)]\n",
    "\n",
    "# clean out empty tweets\n",
    "remove_lst=[]\n",
    "for w in token:\n",
    "    remove_lst.append(len(w))\n",
    "rm_idx = [n for n, x in enumerate(remove_lst) if x == 0]\n",
    "tweets_updated = tweets.drop(rm_idx)"
   ]
  },
  {
   "cell_type": "markdown",
   "metadata": {},
   "source": [
    "#### preprocessed data called tweets_updated\n",
    "70% for training <br />\n",
    "30% for testing\n",
    "\n",
    "\n"
   ]
  },
  {
   "cell_type": "code",
   "execution_count": 87,
   "metadata": {},
   "outputs": [],
   "source": [
    "# preprocess finished and define X and y for train test split\n",
    "X = [word_tokenize(x) for x in list(tweets_updated['tweets_cleaned'])]\n",
    "\n",
    "# label y for any k1 to k15 not equal to 0 - independent among each other\n",
    "label = tweets_updated.loc[:,'k1':'k15']\n",
    "label[tweets_updated != 0] = 1\n",
    "y = label.values\n",
    "\n",
    "X_train, X_test, y_train, y_test = train_test_split(X, y, test_size=0.3, random_state=13)"
   ]
  },
  {
   "cell_type": "code",
   "execution_count": 88,
   "metadata": {},
   "outputs": [
    {
     "name": "stdout",
     "output_type": "stream",
     "text": [
      "X_train shape:  54551\n",
      "X_test shape:  23379\n",
      "y_train shape:  (54551, 15)\n",
      "y_test shape:  (23379, 15)\n"
     ]
    }
   ],
   "source": [
    "print('X_train shape: ', len(X_train))\n",
    "print('X_test shape: ', len(X_test))\n",
    "print('y_train shape: ', y_train.shape)\n",
    "print('y_test shape: ', y_test.shape)"
   ]
  },
  {
   "cell_type": "code",
   "execution_count": 89,
   "metadata": {},
   "outputs": [],
   "source": [
    "# padding token sequense to max length of 40\n",
    "X_train_padded = sequence.pad_sequences(X_train, maxlen=40, padding=\"post\", truncating=\"post\", value='_pad_',dtype=object)\n",
    "X_test_padded = sequence.pad_sequences(X_test, maxlen=40, padding=\"post\", truncating=\"post\", value='_pad_',dtype=object)\n",
    "\n",
    "train_corpus = list(tweets_updated.tweets_cleaned)\n",
    "train_cor_tk = [word_tokenize(x) for x in train_corpus]\n",
    "corpus_padded = sequence.pad_sequences(train_cor_tk, maxlen=40,padding=\"post\", truncating=\"post\", value='_pad_',dtype=object)\n",
    "\n",
    "corpus_padded = corpus_padded.tolist()\n",
    "X_train_padded = X_train_padded.tolist()\n",
    "X_test_padded = X_test_padded.tolist()"
   ]
  },
  {
   "cell_type": "code",
   "execution_count": 90,
   "metadata": {},
   "outputs": [
    {
     "name": "stderr",
     "output_type": "stream",
     "text": [
      "/Users/xungejiang/anaconda3/lib/python3.6/site-packages/ipykernel_launcher.py:10: DeprecationWarning: Call to deprecated `__getitem__` (Method will be removed in 4.0.0, use self.wv.__getitem__() instead).\n",
      "  # Remove the CWD from sys.path while we load stuff.\n",
      "/Users/xungejiang/anaconda3/lib/python3.6/site-packages/ipykernel_launcher.py:15: DeprecationWarning: Call to deprecated `__getitem__` (Method will be removed in 4.0.0, use self.wv.__getitem__() instead).\n",
      "  from ipykernel import kernelapp as app\n"
     ]
    },
    {
     "name": "stdout",
     "output_type": "stream",
     "text": [
      "X_train_vec shape:  (54551, 40, 20)\n",
      "X_test_vec shape:  (23379, 40, 20)\n"
     ]
    }
   ],
   "source": [
    "# train word2vec and vectorizing training set and test set \n",
    "w2v_model = Word2Vec(corpus_padded, min_count=1, size = 20, workers=1, window=3)\n",
    "\n",
    "# vector with size train/test, maxlen = 40 \n",
    "X_train_vec = np.empty([len(X_train), 40, 20])\n",
    "X_test_vec = np.empty([len(X_test), 40, 20])\n",
    "\n",
    "idx_train = 0\n",
    "for i in X_train_padded:\n",
    "    X_train_vec[idx_train, :, :] = w2v_model[i]\n",
    "    idx_train += 1\n",
    "idx_test = 0\n",
    "for i in X_test_padded:\n",
    "    X_test_vec[idx_test,:,:] = w2v_model[i]\n",
    "    idx_test += 1\n",
    "\n",
    "print('X_train_vec shape: ', X_train_vec.shape)\n",
    "print('X_test_vec shape: ', X_test_vec.shape)"
   ]
  },
  {
   "cell_type": "markdown",
   "metadata": {},
   "source": [
    "Pass into Sequential RNN Model"
   ]
  },
  {
   "cell_type": "code",
   "execution_count": 91,
   "metadata": {},
   "outputs": [
    {
     "name": "stdout",
     "output_type": "stream",
     "text": [
      "Train on 54551 samples, validate on 23379 samples\n",
      "Epoch 1/10\n",
      "54551/54551 [==============================] - 22s 407us/step - loss: 0.3696 - acc: 0.8536 - val_loss: 0.3221 - val_acc: 0.8748\n",
      "Epoch 2/10\n",
      "54551/54551 [==============================] - 19s 357us/step - loss: 0.3298 - acc: 0.8731 - val_loss: 0.3213 - val_acc: 0.8748\n",
      "Epoch 3/10\n",
      "54551/54551 [==============================] - 20s 369us/step - loss: 0.3266 - acc: 0.8738 - val_loss: 0.3210 - val_acc: 0.8748\n",
      "Epoch 4/10\n",
      "54551/54551 [==============================] - 20s 358us/step - loss: 0.3238 - acc: 0.8743 - val_loss: 0.3109 - val_acc: 0.8748\n",
      "Epoch 5/10\n",
      "54551/54551 [==============================] - 19s 355us/step - loss: 0.2994 - acc: 0.8820 - val_loss: 0.2682 - val_acc: 0.8912\n",
      "Epoch 6/10\n",
      "54551/54551 [==============================] - 19s 348us/step - loss: 0.2328 - acc: 0.9116 - val_loss: 0.1980 - val_acc: 0.9240\n",
      "Epoch 7/10\n",
      "54551/54551 [==============================] - 19s 344us/step - loss: 0.1946 - acc: 0.9293 - val_loss: 0.1723 - val_acc: 0.9364\n",
      "Epoch 8/10\n",
      "54551/54551 [==============================] - 19s 346us/step - loss: 0.1788 - acc: 0.9363 - val_loss: 0.1638 - val_acc: 0.9407\n",
      "Epoch 9/10\n",
      "54551/54551 [==============================] - 19s 350us/step - loss: 0.1722 - acc: 0.9388 - val_loss: 0.1600 - val_acc: 0.9417\n",
      "Epoch 10/10\n",
      "54551/54551 [==============================] - 19s 347us/step - loss: 0.1681 - acc: 0.9403 - val_loss: 0.1562 - val_acc: 0.9428\n"
     ]
    }
   ],
   "source": [
    "# Build LSTM model\n",
    "model_rnn = Sequential()\n",
    "model_rnn.add(LSTM(128, input_shape = (40, 20)))\n",
    "model_rnn.add(Dense(128, activation = 'relu'))\n",
    "model_rnn.add(Dropout(0.2))\n",
    "model_rnn.add(Dense(64, activation = 'relu'))\n",
    "model_rnn.add(Dropout(0.2))\n",
    "model_rnn.add(Dense(15, activation ='sigmoid'))\n",
    "\n",
    "model_rnn.compile(loss='binary_crossentropy', optimizer='adam',metrics=['accuracy'])\n",
    "\n",
    "history = model_rnn.fit(X_train_vec, y_train, epochs=10, batch_size=500,\n",
    "                        validation_data=(X_test_vec, y_test))"
   ]
  },
  {
   "cell_type": "code",
   "execution_count": 92,
   "metadata": {},
   "outputs": [],
   "source": [
    "# evaluate the model\n",
    "score = model_rnn.evaluate(X_test_vec, y_test, batch_size=64, verbose = 0)"
   ]
  },
  {
   "cell_type": "code",
   "execution_count": 93,
   "metadata": {},
   "outputs": [
    {
     "name": "stdout",
     "output_type": "stream",
     "text": [
      "Train loss:  0.16809914808502027\n",
      "Train accuracy:  0.9402552067898049\n",
      "Test loss:  0.15618934412320537\n",
      "Test accuracy:  0.9428005508052012\n"
     ]
    }
   ],
   "source": [
    "from sklearn import metrics\n",
    "import matplotlib.pyplot as plt\n",
    "\n",
    "print('Train loss: ', history.history['loss'][9]) \n",
    "print('Train accuracy: ', history.history['acc'][9])\n",
    "\n",
    "print('Test loss: ', score[0])\n",
    "print('Test accuracy: ', score[1])"
   ]
  },
  {
   "cell_type": "markdown",
   "metadata": {},
   "source": [
    "#### 3.2 1D CNN"
   ]
  },
  {
   "cell_type": "code",
   "execution_count": 96,
   "metadata": {},
   "outputs": [
    {
     "name": "stdout",
     "output_type": "stream",
     "text": [
      "WARNING:tensorflow:From /Users/xungejiang/anaconda3/lib/python3.6/site-packages/keras/backend/tensorflow_backend.py:1204: calling reduce_max (from tensorflow.python.ops.math_ops) with keep_dims is deprecated and will be removed in a future version.\n",
      "Instructions for updating:\n",
      "keep_dims is deprecated, use keepdims instead\n",
      "Train on 54551 samples, validate on 23379 samples\n",
      "Epoch 1/10\n",
      "54551/54551 [==============================] - 8s 144us/step - loss: 0.2330 - acc: 0.9140 - val_loss: 0.1709 - val_acc: 0.9382\n",
      "Epoch 2/10\n",
      "54551/54551 [==============================] - 5s 99us/step - loss: 0.1779 - acc: 0.9375 - val_loss: 0.1597 - val_acc: 0.9427\n",
      "Epoch 3/10\n",
      "54551/54551 [==============================] - 5s 97us/step - loss: 0.1690 - acc: 0.9409 - val_loss: 0.1560 - val_acc: 0.9438\n",
      "Epoch 4/10\n",
      "54551/54551 [==============================] - 5s 97us/step - loss: 0.1643 - acc: 0.9422 - val_loss: 0.1533 - val_acc: 0.9446\n",
      "Epoch 5/10\n",
      "54551/54551 [==============================] - 5s 96us/step - loss: 0.1615 - acc: 0.9434 - val_loss: 0.1519 - val_acc: 0.9453\n",
      "Epoch 6/10\n",
      "54551/54551 [==============================] - 5s 97us/step - loss: 0.1585 - acc: 0.9441 - val_loss: 0.1494 - val_acc: 0.9462\n",
      "Epoch 7/10\n",
      "54551/54551 [==============================] - 5s 96us/step - loss: 0.1565 - acc: 0.9444 - val_loss: 0.1492 - val_acc: 0.9462\n",
      "Epoch 8/10\n",
      "54551/54551 [==============================] - 5s 97us/step - loss: 0.1549 - acc: 0.9451 - val_loss: 0.1478 - val_acc: 0.9467\n",
      "Epoch 9/10\n",
      "54551/54551 [==============================] - 5s 97us/step - loss: 0.1535 - acc: 0.9454 - val_loss: 0.1473 - val_acc: 0.9467\n",
      "Epoch 10/10\n",
      "54551/54551 [==============================] - 5s 96us/step - loss: 0.1525 - acc: 0.9458 - val_loss: 0.1464 - val_acc: 0.9472\n"
     ]
    }
   ],
   "source": [
    "model_cnn = Sequential()\n",
    "model_cnn.add(Conv1D(128, 3, activation='relu', padding = 'valid', strides=1, input_shape=(40,20)))\n",
    "model_cnn.add(GlobalMaxPooling1D())\n",
    "model_cnn.add(Dense(64))\n",
    "model_cnn.add(Dropout(0.2))\n",
    "model_cnn.add(Activation('relu'))\n",
    "model_cnn.add(Dense(15, activation ='sigmoid'))\n",
    "\n",
    "model_cnn.compile(loss='binary_crossentropy', optimizer='adam', metrics=['accuracy'])\n",
    "\n",
    "history_cnn = model_cnn.fit(X_train_vec, y_train, epochs=10, batch_size=128,\n",
    "                        validation_data=(X_test_vec, y_test))"
   ]
  },
  {
   "cell_type": "code",
   "execution_count": 97,
   "metadata": {},
   "outputs": [],
   "source": [
    "# evaluate the model\n",
    "score_cnn = model_cnn.evaluate(X_test_vec, y_test, batch_size=64, verbose = 0)"
   ]
  },
  {
   "cell_type": "code",
   "execution_count": 98,
   "metadata": {},
   "outputs": [
    {
     "name": "stdout",
     "output_type": "stream",
     "text": [
      "Train loss:  0.1525089249542873\n",
      "Train accuracy:  0.9458097696492256\n",
      "Test loss:  0.14635665929025812\n",
      "Test accuracy:  0.9471691451548326\n"
     ]
    }
   ],
   "source": [
    "from sklearn import metrics\n",
    "import matplotlib.pyplot as plt\n",
    "\n",
    "print('Train loss: ', history_cnn.history['loss'][9]) \n",
    "print('Train accuracy: ', history_cnn.history['acc'][9])\n",
    "\n",
    "print('Test loss: ', score_cnn[0])\n",
    "print('Test accuracy: ', score_cnn[1])"
   ]
  },
  {
   "cell_type": "markdown",
   "metadata": {},
   "source": [
    "#### 3.3 RNN CNN Comparison \n",
    "I used accuracy and loss to compare performance of two methods. "
   ]
  },
  {
   "cell_type": "code",
   "execution_count": 107,
   "metadata": {},
   "outputs": [
    {
     "data": {
      "text/plain": [
       "Text(0.5,1,'Text Classification Accuracy RNN CNN Comparison')"
      ]
     },
     "execution_count": 107,
     "metadata": {},
     "output_type": "execute_result"
    },
    {
     "data": {
      "image/png": "[encoded data removed]",
      "text/plain": [
       "<Figure size 432x288 with 1 Axes>"
      ]
     },
     "metadata": {},
     "output_type": "display_data"
    }
   ],
   "source": [
    "import matplotlib.pyplot as plt\n",
    "plt.plot(history.history['acc'], label='RNN train accuracy', color = 'r')\n",
    "plt.plot(history_cnn.history['acc'], label = 'CNN train accuracy', color = 'k')\n",
    "plt.xlabel('Epoch')\n",
    "plt.ylabel('Accuracy')\n",
    "plt.ylim([0.8, 1])\n",
    "plt.legend(loc='lower right')\n",
    "plt.title('Text Classification Accuracy RNN CNN Comparison')"
   ]
  },
  {
   "cell_type": "code",
   "execution_count": 106,
   "metadata": {},
   "outputs": [
    {
     "data": {
      "text/plain": [
       "Text(0.5,1,'Text Classification Loss RNN CNN Comparison')"
      ]
     },
     "execution_count": 106,
     "metadata": {},
     "output_type": "execute_result"
    },
    {
     "data": {
      "image/png": "[encoded data removed]",
      "text/plain": [
       "<Figure size 432x288 with 1 Axes>"
      ]
     },
     "metadata": {},
     "output_type": "display_data"
    }
   ],
   "source": [
    "import matplotlib.pyplot as plt\n",
    "plt.plot(history.history['loss'], label='RNN train loss', color = 'r')\n",
    "plt.plot(history_cnn.history['loss'], label = 'CNN train loss', color = 'k')\n",
    "plt.xlabel('Epoch')\n",
    "plt.ylabel('Loss')\n",
    "plt.ylim([0, 0.5])\n",
    "plt.legend(loc='lower right')\n",
    "plt.title('Text Classification Loss RNN CNN Comparison')"
   ]
  },
  {
   "cell_type": "markdown",
   "metadata": {},
   "source": [
    "In accuracy plot, CNN has average higher accuracy than RNN and in loss plot, CNN has less train loss than RNN. \n",
    "\n",
    "Thus, by choosing method of using sigmoid activation to collapse the output to between 0 and 1 with each category output being roughly independent of the others, CNN performs better than RNN model. "
   ]
  }
 ],
 "metadata": {
  "kernelspec": {
   "display_name": "Python 3",
   "language": "python",
   "name": "python3"
  },
  "language_info": {
   "codemirror_mode": {
    "name": "ipython",
    "version": 3
   },
   "file_extension": ".py",
   "mimetype": "text/x-python",
   "name": "python",
   "nbconvert_exporter": "python",
   "pygments_lexer": "ipython3",
   "version": "3.6.8"
  }
 },
 "nbformat": 4,
 "nbformat_minor": 2
}
